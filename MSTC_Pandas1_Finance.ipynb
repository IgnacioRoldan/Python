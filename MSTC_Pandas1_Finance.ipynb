{
 "cells": [
  {
   "cell_type": "markdown",
   "metadata": {},
   "source": [
    "## <font color='magenta'> MSTC Python Introduction</font>\n",
    "\n",
    "* ### Introduction to Pandas DataFrames\n",
    "\n",
    "* ### Simple analysis of Finantial Data\n",
    "\n",
    "https://www.datacamp.com/community/tutorials/finance-python-trading#gs.1XmreoQ\n",
    "\n",
    "\n",
    "#### see also:\n",
    "https://github.com/datacamp/datacamp-community-tutorials\n",
    "\n",
    "\n"
   ]
  },
  {
   "cell_type": "code",
   "execution_count": 1,
   "metadata": {
    "collapsed": false
   },
   "outputs": [
    {
     "name": "stdout",
     "output_type": "stream",
     "text": [
      "Requirement already satisfied: pandas_datareader in ./common/.virtualenv/python3/lib/python3.5/site-packages\n",
      "Requirement already satisfied: pandas>=0.17.0 in /usr/local/lib/python3.5/dist-packages (from pandas_datareader)\n",
      "Requirement already satisfied: requests-ftp in ./common/.virtualenv/python3/lib/python3.5/site-packages (from pandas_datareader)\n",
      "Requirement already satisfied: requests>=2.3.0 in /usr/local/lib/python3.5/dist-packages (from pandas_datareader)\n",
      "Requirement already satisfied: requests-file in ./common/.virtualenv/python3/lib/python3.5/site-packages (from pandas_datareader)\n",
      "Requirement already satisfied: pytz>=2011k in /usr/local/lib/python3.5/dist-packages (from pandas>=0.17.0->pandas_datareader)\n",
      "Requirement already satisfied: python-dateutil>=2 in /usr/local/lib/python3.5/dist-packages (from pandas>=0.17.0->pandas_datareader)\n",
      "Requirement already satisfied: numpy>=1.7.0 in /usr/local/lib/python3.5/dist-packages (from pandas>=0.17.0->pandas_datareader)\n",
      "Requirement already satisfied: six in /usr/lib/python3/dist-packages (from requests-file->pandas_datareader)\n"
     ]
    }
   ],
   "source": [
    "! pip install pandas_datareader"
   ]
  },
  {
   "cell_type": "code",
   "execution_count": 2,
   "metadata": {
    "collapsed": false
   },
   "outputs": [],
   "source": [
    "import pandas_datareader as pdr\n",
    "import datetime"
   ]
  },
  {
   "cell_type": "markdown",
   "metadata": {},
   "source": [
    "## HOW TO GET DATA\n",
    "# http://pandas-datareader.readthedocs.io/en/latest/remote_data.html\n",
    "\n",
    "## Functions from pandas_datareader.data and pandas_datareader.wb extract data \n",
    "# from various Internet sources into a pandas DataFrame. Currently the following sources are supported:\n",
    "\n",
    "        Yahoo! Finance\n",
    "        Google Finance\n",
    "        Enigma\n",
    "        Quandl\n",
    "        St.Louis FED (FRED)\n",
    "        Kenneth French’s data library\n",
    "        World Bank\n",
    "        OECD\n",
    "        Eurostat\n",
    "        Thrift Savings Plan\n",
    "        Nasdaq Trader symbol definitions\n"
   ]
  },
  {
   "cell_type": "markdown",
   "metadata": {},
   "source": [
    "## Example: <font color='green'>Data Frame of Apple Stock data</font>"
   ]
  },
  {
   "cell_type": "code",
   "execution_count": 3,
   "metadata": {
    "collapsed": true
   },
   "outputs": [],
   "source": [
    "aapl = pdr.get_data_yahoo('AAPL', \n",
    "                          start=datetime.datetime(2006, 10, 1), \n",
    "                          end=datetime.datetime(2012, 1, 1))"
   ]
  },
  {
   "cell_type": "code",
   "execution_count": 4,
   "metadata": {
    "collapsed": false
   },
   "outputs": [
    {
     "data": {
      "text/plain": [
       "pandas.core.frame.DataFrame"
      ]
     },
     "execution_count": 4,
     "metadata": {},
     "output_type": "execute_result"
    }
   ],
   "source": [
    "type(aapl)"
   ]
  },
  {
   "cell_type": "markdown",
   "metadata": {},
   "source": [
    "## You have used pandas_datareader to import data into your workspace. \n",
    "\n",
    "* ### <font color='brown'> The resulting object aapl is a DataFrame, which is a 2-dimensional labeled data structure with columns of potentially different types.</font>\n",
    "### Use head() and tail() to take a peek at the first and the last rows of your DataFrame. </font>"
   ]
  },
  {
   "cell_type": "code",
   "execution_count": 5,
   "metadata": {
    "collapsed": false
   },
   "outputs": [
    {
     "data": {
      "text/html": [
       "<div>\n",
       "<table border=\"1\" class=\"dataframe\">\n",
       "  <thead>\n",
       "    <tr style=\"text-align: right;\">\n",
       "      <th></th>\n",
       "      <th>Open</th>\n",
       "      <th>High</th>\n",
       "      <th>Low</th>\n",
       "      <th>Close</th>\n",
       "      <th>Adj Close</th>\n",
       "      <th>Volume</th>\n",
       "    </tr>\n",
       "    <tr>\n",
       "      <th>Date</th>\n",
       "      <th></th>\n",
       "      <th></th>\n",
       "      <th></th>\n",
       "      <th></th>\n",
       "      <th></th>\n",
       "      <th></th>\n",
       "    </tr>\n",
       "  </thead>\n",
       "  <tbody>\n",
       "    <tr>\n",
       "      <th>2006-10-02</th>\n",
       "      <td>10.728572</td>\n",
       "      <td>10.838572</td>\n",
       "      <td>10.614285</td>\n",
       "      <td>10.694285</td>\n",
       "      <td>9.621180</td>\n",
       "      <td>178159800</td>\n",
       "    </tr>\n",
       "    <tr>\n",
       "      <th>2006-10-03</th>\n",
       "      <td>10.635715</td>\n",
       "      <td>10.707143</td>\n",
       "      <td>10.455714</td>\n",
       "      <td>10.582857</td>\n",
       "      <td>9.520932</td>\n",
       "      <td>197677200</td>\n",
       "    </tr>\n",
       "    <tr>\n",
       "      <th>2006-10-04</th>\n",
       "      <td>10.585714</td>\n",
       "      <td>10.780000</td>\n",
       "      <td>10.451428</td>\n",
       "      <td>10.768572</td>\n",
       "      <td>9.688010</td>\n",
       "      <td>207270700</td>\n",
       "    </tr>\n",
       "    <tr>\n",
       "      <th>2006-10-05</th>\n",
       "      <td>10.647142</td>\n",
       "      <td>10.880000</td>\n",
       "      <td>10.590000</td>\n",
       "      <td>10.690000</td>\n",
       "      <td>9.617326</td>\n",
       "      <td>170970800</td>\n",
       "    </tr>\n",
       "    <tr>\n",
       "      <th>2006-10-06</th>\n",
       "      <td>10.631429</td>\n",
       "      <td>10.720000</td>\n",
       "      <td>10.544286</td>\n",
       "      <td>10.602858</td>\n",
       "      <td>9.538924</td>\n",
       "      <td>116739700</td>\n",
       "    </tr>\n",
       "  </tbody>\n",
       "</table>\n",
       "</div>"
      ],
      "text/plain": [
       "                 Open       High        Low      Close  Adj Close     Volume\n",
       "Date                                                                        \n",
       "2006-10-02  10.728572  10.838572  10.614285  10.694285   9.621180  178159800\n",
       "2006-10-03  10.635715  10.707143  10.455714  10.582857   9.520932  197677200\n",
       "2006-10-04  10.585714  10.780000  10.451428  10.768572   9.688010  207270700\n",
       "2006-10-05  10.647142  10.880000  10.590000  10.690000   9.617326  170970800\n",
       "2006-10-06  10.631429  10.720000  10.544286  10.602858   9.538924  116739700"
      ]
     },
     "execution_count": 5,
     "metadata": {},
     "output_type": "execute_result"
    }
   ],
   "source": [
    "aapl.head()"
   ]
  },
  {
   "cell_type": "markdown",
   "metadata": {},
   "source": [
    " <font color='red' size=4>Note how the index or row labels contain dates, and how your columns or column labels contain numerical values</font>"
   ]
  },
  {
   "cell_type": "code",
   "execution_count": 6,
   "metadata": {
    "collapsed": false
   },
   "outputs": [
    {
     "data": {
      "text/html": [
       "<div>\n",
       "<table border=\"1\" class=\"dataframe\">\n",
       "  <thead>\n",
       "    <tr style=\"text-align: right;\">\n",
       "      <th></th>\n",
       "      <th>Open</th>\n",
       "      <th>High</th>\n",
       "      <th>Low</th>\n",
       "      <th>Close</th>\n",
       "      <th>Adj Close</th>\n",
       "      <th>Volume</th>\n",
       "    </tr>\n",
       "    <tr>\n",
       "      <th>Date</th>\n",
       "      <th></th>\n",
       "      <th></th>\n",
       "      <th></th>\n",
       "      <th></th>\n",
       "      <th></th>\n",
       "      <th></th>\n",
       "    </tr>\n",
       "  </thead>\n",
       "  <tbody>\n",
       "    <tr>\n",
       "      <th>2011-12-23</th>\n",
       "      <td>57.098572</td>\n",
       "      <td>57.655716</td>\n",
       "      <td>57.070000</td>\n",
       "      <td>57.618572</td>\n",
       "      <td>51.836887</td>\n",
       "      <td>67349800</td>\n",
       "    </tr>\n",
       "    <tr>\n",
       "      <th>2011-12-27</th>\n",
       "      <td>57.585712</td>\n",
       "      <td>58.441429</td>\n",
       "      <td>57.574287</td>\n",
       "      <td>58.075714</td>\n",
       "      <td>52.248165</td>\n",
       "      <td>66269000</td>\n",
       "    </tr>\n",
       "    <tr>\n",
       "      <th>2011-12-28</th>\n",
       "      <td>58.127144</td>\n",
       "      <td>58.321430</td>\n",
       "      <td>57.334286</td>\n",
       "      <td>57.520000</td>\n",
       "      <td>51.748211</td>\n",
       "      <td>57165500</td>\n",
       "    </tr>\n",
       "    <tr>\n",
       "      <th>2011-12-29</th>\n",
       "      <td>57.628571</td>\n",
       "      <td>57.950001</td>\n",
       "      <td>57.215714</td>\n",
       "      <td>57.874287</td>\n",
       "      <td>52.066956</td>\n",
       "      <td>53994500</td>\n",
       "    </tr>\n",
       "    <tr>\n",
       "      <th>2011-12-30</th>\n",
       "      <td>57.644287</td>\n",
       "      <td>58.040001</td>\n",
       "      <td>57.641430</td>\n",
       "      <td>57.857143</td>\n",
       "      <td>52.051525</td>\n",
       "      <td>44915500</td>\n",
       "    </tr>\n",
       "  </tbody>\n",
       "</table>\n",
       "</div>"
      ],
      "text/plain": [
       "                 Open       High        Low      Close  Adj Close    Volume\n",
       "Date                                                                       \n",
       "2011-12-23  57.098572  57.655716  57.070000  57.618572  51.836887  67349800\n",
       "2011-12-27  57.585712  58.441429  57.574287  58.075714  52.248165  66269000\n",
       "2011-12-28  58.127144  58.321430  57.334286  57.520000  51.748211  57165500\n",
       "2011-12-29  57.628571  57.950001  57.215714  57.874287  52.066956  53994500\n",
       "2011-12-30  57.644287  58.040001  57.641430  57.857143  52.051525  44915500"
      ]
     },
     "execution_count": 6,
     "metadata": {},
     "output_type": "execute_result"
    }
   ],
   "source": [
    "aapl.tail()"
   ]
  },
  {
   "cell_type": "code",
   "execution_count": 7,
   "metadata": {
    "collapsed": false
   },
   "outputs": [
    {
     "data": {
      "text/html": [
       "<div>\n",
       "<table border=\"1\" class=\"dataframe\">\n",
       "  <thead>\n",
       "    <tr style=\"text-align: right;\">\n",
       "      <th></th>\n",
       "      <th>Open</th>\n",
       "      <th>High</th>\n",
       "      <th>Low</th>\n",
       "      <th>Close</th>\n",
       "      <th>Adj Close</th>\n",
       "      <th>Volume</th>\n",
       "    </tr>\n",
       "  </thead>\n",
       "  <tbody>\n",
       "    <tr>\n",
       "      <th>count</th>\n",
       "      <td>1323.000000</td>\n",
       "      <td>1323.000000</td>\n",
       "      <td>1323.000000</td>\n",
       "      <td>1323.000000</td>\n",
       "      <td>1323.000000</td>\n",
       "      <td>1.323000e+03</td>\n",
       "    </tr>\n",
       "    <tr>\n",
       "      <th>mean</th>\n",
       "      <td>28.901012</td>\n",
       "      <td>29.237566</td>\n",
       "      <td>28.507684</td>\n",
       "      <td>28.889151</td>\n",
       "      <td>25.990299</td>\n",
       "      <td>1.882896e+08</td>\n",
       "    </tr>\n",
       "    <tr>\n",
       "      <th>std</th>\n",
       "      <td>14.123131</td>\n",
       "      <td>14.199012</td>\n",
       "      <td>14.029758</td>\n",
       "      <td>14.119734</td>\n",
       "      <td>12.702903</td>\n",
       "      <td>1.027007e+08</td>\n",
       "    </tr>\n",
       "    <tr>\n",
       "      <th>min</th>\n",
       "      <td>10.488571</td>\n",
       "      <td>10.568571</td>\n",
       "      <td>10.371428</td>\n",
       "      <td>10.461429</td>\n",
       "      <td>9.411687</td>\n",
       "      <td>3.937360e+07</td>\n",
       "    </tr>\n",
       "    <tr>\n",
       "      <th>25%</th>\n",
       "      <td>17.457857</td>\n",
       "      <td>17.752857</td>\n",
       "      <td>17.182143</td>\n",
       "      <td>17.431429</td>\n",
       "      <td>15.682291</td>\n",
       "      <td>1.122037e+08</td>\n",
       "    </tr>\n",
       "    <tr>\n",
       "      <th>50%</th>\n",
       "      <td>25.260000</td>\n",
       "      <td>25.642857</td>\n",
       "      <td>24.725714</td>\n",
       "      <td>25.120001</td>\n",
       "      <td>22.599365</td>\n",
       "      <td>1.629866e+08</td>\n",
       "    </tr>\n",
       "    <tr>\n",
       "      <th>75%</th>\n",
       "      <td>38.777144</td>\n",
       "      <td>39.132858</td>\n",
       "      <td>38.351429</td>\n",
       "      <td>38.699999</td>\n",
       "      <td>34.816683</td>\n",
       "      <td>2.316230e+08</td>\n",
       "    </tr>\n",
       "    <tr>\n",
       "      <th>max</th>\n",
       "      <td>60.251427</td>\n",
       "      <td>60.957142</td>\n",
       "      <td>59.427143</td>\n",
       "      <td>60.320000</td>\n",
       "      <td>54.267254</td>\n",
       "      <td>8.432424e+08</td>\n",
       "    </tr>\n",
       "  </tbody>\n",
       "</table>\n",
       "</div>"
      ],
      "text/plain": [
       "              Open         High          Low        Close    Adj Close  \\\n",
       "count  1323.000000  1323.000000  1323.000000  1323.000000  1323.000000   \n",
       "mean     28.901012    29.237566    28.507684    28.889151    25.990299   \n",
       "std      14.123131    14.199012    14.029758    14.119734    12.702903   \n",
       "min      10.488571    10.568571    10.371428    10.461429     9.411687   \n",
       "25%      17.457857    17.752857    17.182143    17.431429    15.682291   \n",
       "50%      25.260000    25.642857    24.725714    25.120001    22.599365   \n",
       "75%      38.777144    39.132858    38.351429    38.699999    34.816683   \n",
       "max      60.251427    60.957142    59.427143    60.320000    54.267254   \n",
       "\n",
       "             Volume  \n",
       "count  1.323000e+03  \n",
       "mean   1.882896e+08  \n",
       "std    1.027007e+08  \n",
       "min    3.937360e+07  \n",
       "25%    1.122037e+08  \n",
       "50%    1.629866e+08  \n",
       "75%    2.316230e+08  \n",
       "max    8.432424e+08  "
      ]
     },
     "execution_count": 7,
     "metadata": {},
     "output_type": "execute_result"
    }
   ],
   "source": [
    "# Describe `aapl`\n",
    "aapl.describe()"
   ]
  },
  {
   "cell_type": "markdown",
   "metadata": {},
   "source": [
    "### Volume:\n",
    "     number of shares that got traded during a single day\n",
    "     \n",
    "### Adj Close:\n",
    "     adjusted closing price: it’s the closing price of the day that has been slightly adjusted to include any actions that occurred at any time before the next day’s open.\n",
    "     \n",
    "     "
   ]
  },
  {
   "cell_type": "markdown",
   "metadata": {},
   "source": [
    "### <font color='blue'> STORING & READING data from csv file </font>\n",
    "\n",
    "     ... inspect local directories...\n",
    "     \n",
    "* CWD : Current Working Directory"
   ]
  },
  {
   "cell_type": "code",
   "execution_count": 8,
   "metadata": {
    "collapsed": false
   },
   "outputs": [
    {
     "name": "stdout",
     "output_type": "stream",
     "text": [
      "/resources\n"
     ]
    }
   ],
   "source": [
    "import os\n",
    "\n",
    "\n",
    "cwd = os.getcwd()\n",
    "\n",
    "print(cwd)"
   ]
  },
  {
   "cell_type": "code",
   "execution_count": 9,
   "metadata": {
    "collapsed": false
   },
   "outputs": [
    {
     "data": {
      "text/plain": [
       "['ImagesNB',\n",
       " 'MSTC',\n",
       " 'UCI_HAR_Dataset',\n",
       " 'tinyshakespeare.txt',\n",
       " 'checkpoint',\n",
       " 'samples',\n",
       " 'mpl.ckpt.data-00000-of-00001',\n",
       " 'mpl.ckpt.meta',\n",
       " 'AVEC',\n",
       " 'sample_data_ctc_example',\n",
       " 'mpl.ckpt.index',\n",
       " 'UCI_HAR_Dataset.zip',\n",
       " 'Drivies']"
      ]
     },
     "execution_count": 9,
     "metadata": {},
     "output_type": "execute_result"
    }
   ],
   "source": [
    "os.listdir(\"./data\")"
   ]
  },
  {
   "cell_type": "code",
   "execution_count": 10,
   "metadata": {
    "collapsed": true
   },
   "outputs": [],
   "source": [
    "import pandas as pd\n",
    "\n",
    "aapl.to_csv('data/MSTC/aapl_ohlc.csv')"
   ]
  },
  {
   "cell_type": "code",
   "execution_count": 11,
   "metadata": {
    "collapsed": true
   },
   "outputs": [],
   "source": [
    "df = pd.read_csv('data/MSTC/aapl_ohlc.csv', header=0, index_col='Date', parse_dates=True)"
   ]
  },
  {
   "cell_type": "code",
   "execution_count": 12,
   "metadata": {
    "collapsed": false
   },
   "outputs": [
    {
     "data": {
      "text/html": [
       "<div>\n",
       "<table border=\"1\" class=\"dataframe\">\n",
       "  <thead>\n",
       "    <tr style=\"text-align: right;\">\n",
       "      <th></th>\n",
       "      <th>Open</th>\n",
       "      <th>High</th>\n",
       "      <th>Low</th>\n",
       "      <th>Close</th>\n",
       "      <th>Adj Close</th>\n",
       "      <th>Volume</th>\n",
       "    </tr>\n",
       "  </thead>\n",
       "  <tbody>\n",
       "    <tr>\n",
       "      <th>count</th>\n",
       "      <td>1323.000000</td>\n",
       "      <td>1323.000000</td>\n",
       "      <td>1323.000000</td>\n",
       "      <td>1323.000000</td>\n",
       "      <td>1323.000000</td>\n",
       "      <td>1.323000e+03</td>\n",
       "    </tr>\n",
       "    <tr>\n",
       "      <th>mean</th>\n",
       "      <td>28.901012</td>\n",
       "      <td>29.237566</td>\n",
       "      <td>28.507684</td>\n",
       "      <td>28.889151</td>\n",
       "      <td>25.990299</td>\n",
       "      <td>1.882896e+08</td>\n",
       "    </tr>\n",
       "    <tr>\n",
       "      <th>std</th>\n",
       "      <td>14.123131</td>\n",
       "      <td>14.199012</td>\n",
       "      <td>14.029758</td>\n",
       "      <td>14.119734</td>\n",
       "      <td>12.702903</td>\n",
       "      <td>1.027007e+08</td>\n",
       "    </tr>\n",
       "    <tr>\n",
       "      <th>min</th>\n",
       "      <td>10.488571</td>\n",
       "      <td>10.568571</td>\n",
       "      <td>10.371428</td>\n",
       "      <td>10.461429</td>\n",
       "      <td>9.411687</td>\n",
       "      <td>3.937360e+07</td>\n",
       "    </tr>\n",
       "    <tr>\n",
       "      <th>25%</th>\n",
       "      <td>17.457857</td>\n",
       "      <td>17.752857</td>\n",
       "      <td>17.182143</td>\n",
       "      <td>17.431429</td>\n",
       "      <td>15.682290</td>\n",
       "      <td>1.122037e+08</td>\n",
       "    </tr>\n",
       "    <tr>\n",
       "      <th>50%</th>\n",
       "      <td>25.260000</td>\n",
       "      <td>25.642857</td>\n",
       "      <td>24.725714</td>\n",
       "      <td>25.120001</td>\n",
       "      <td>22.599365</td>\n",
       "      <td>1.629866e+08</td>\n",
       "    </tr>\n",
       "    <tr>\n",
       "      <th>75%</th>\n",
       "      <td>38.777144</td>\n",
       "      <td>39.132858</td>\n",
       "      <td>38.351429</td>\n",
       "      <td>38.699999</td>\n",
       "      <td>34.816683</td>\n",
       "      <td>2.316230e+08</td>\n",
       "    </tr>\n",
       "    <tr>\n",
       "      <th>max</th>\n",
       "      <td>60.251427</td>\n",
       "      <td>60.957142</td>\n",
       "      <td>59.427143</td>\n",
       "      <td>60.320000</td>\n",
       "      <td>54.267254</td>\n",
       "      <td>8.432424e+08</td>\n",
       "    </tr>\n",
       "  </tbody>\n",
       "</table>\n",
       "</div>"
      ],
      "text/plain": [
       "              Open         High          Low        Close    Adj Close  \\\n",
       "count  1323.000000  1323.000000  1323.000000  1323.000000  1323.000000   \n",
       "mean     28.901012    29.237566    28.507684    28.889151    25.990299   \n",
       "std      14.123131    14.199012    14.029758    14.119734    12.702903   \n",
       "min      10.488571    10.568571    10.371428    10.461429     9.411687   \n",
       "25%      17.457857    17.752857    17.182143    17.431429    15.682290   \n",
       "50%      25.260000    25.642857    24.725714    25.120001    22.599365   \n",
       "75%      38.777144    39.132858    38.351429    38.699999    34.816683   \n",
       "max      60.251427    60.957142    59.427143    60.320000    54.267254   \n",
       "\n",
       "             Volume  \n",
       "count  1.323000e+03  \n",
       "mean   1.882896e+08  \n",
       "std    1.027007e+08  \n",
       "min    3.937360e+07  \n",
       "25%    1.122037e+08  \n",
       "50%    1.629866e+08  \n",
       "75%    2.316230e+08  \n",
       "max    8.432424e+08  "
      ]
     },
     "execution_count": 12,
     "metadata": {},
     "output_type": "execute_result"
    }
   ],
   "source": [
    "df.describe()"
   ]
  },
  {
   "cell_type": "markdown",
   "metadata": {},
   "source": [
    "### <font color='blue'> Use the index and columns attributes to take a look at the index and columns of your Data Frame </font>"
   ]
  },
  {
   "cell_type": "code",
   "execution_count": 13,
   "metadata": {
    "collapsed": false
   },
   "outputs": [
    {
     "data": {
      "text/plain": [
       "DatetimeIndex(['2006-10-02', '2006-10-03', '2006-10-04', '2006-10-05',\n",
       "               '2006-10-06', '2006-10-09', '2006-10-10', '2006-10-11',\n",
       "               '2006-10-12', '2006-10-13',\n",
       "               ...\n",
       "               '2011-12-16', '2011-12-19', '2011-12-20', '2011-12-21',\n",
       "               '2011-12-22', '2011-12-23', '2011-12-27', '2011-12-28',\n",
       "               '2011-12-29', '2011-12-30'],\n",
       "              dtype='datetime64[ns]', name='Date', length=1323, freq=None)"
      ]
     },
     "execution_count": 13,
     "metadata": {},
     "output_type": "execute_result"
    }
   ],
   "source": [
    "aapl.index"
   ]
  },
  {
   "cell_type": "code",
   "execution_count": 14,
   "metadata": {
    "collapsed": false
   },
   "outputs": [
    {
     "data": {
      "text/plain": [
       "Index(['Open', 'High', 'Low', 'Close', 'Adj Close', 'Volume'], dtype='object')"
      ]
     },
     "execution_count": 14,
     "metadata": {},
     "output_type": "execute_result"
    }
   ],
   "source": [
    "aapl.columns"
   ]
  },
  {
   "cell_type": "markdown",
   "metadata": {},
   "source": [
    "### Select the last 10 observation of Close column by only selecting the last 10 observations of the DataFrame.\n",
    "\n",
    "* ### store it in variable ts (which type?)"
   ]
  },
  {
   "cell_type": "code",
   "execution_count": 14,
   "metadata": {
    "collapsed": false
   },
   "outputs": [
    {
     "data": {
      "text/plain": [
       "Date\n",
       "2011-12-16    54.431427\n",
       "2011-12-19    54.601429\n",
       "2011-12-20    56.564285\n",
       "2011-12-21    56.635715\n",
       "2011-12-22    56.935715\n",
       "2011-12-23    57.618572\n",
       "2011-12-27    58.075714\n",
       "2011-12-28    57.520000\n",
       "2011-12-29    57.874287\n",
       "2011-12-30    57.857143\n",
       "Name: Close, dtype: float64"
      ]
     },
     "execution_count": 14,
     "metadata": {},
     "output_type": "execute_result"
    }
   ],
   "source": [
    "aapl['Close'][-10:]"
   ]
  },
  {
   "cell_type": "code",
   "execution_count": 15,
   "metadata": {
    "collapsed": true
   },
   "outputs": [],
   "source": [
    "ts = aapl['Close'][-10:]"
   ]
  },
  {
   "cell_type": "code",
   "execution_count": 16,
   "metadata": {
    "collapsed": false
   },
   "outputs": [
    {
     "data": {
      "text/plain": [
       "pandas.core.series.Series"
      ]
     },
     "execution_count": 16,
     "metadata": {},
     "output_type": "execute_result"
    }
   ],
   "source": [
    "type(ts)"
   ]
  },
  {
   "cell_type": "markdown",
   "metadata": {},
   "source": [
    "## Ways to subset your data:\n",
    "\n",
    "* ### loc() label-based indexing \"such as 2007 and 2006-11-01\"\n",
    "\n",
    "* ### iloc() positional indexing you pass integers such as 22 and 43 to the iloc() function.\n",
    "\n"
   ]
  },
  {
   "cell_type": "code",
   "execution_count": 15,
   "metadata": {
    "collapsed": false
   },
   "outputs": [
    {
     "name": "stdout",
     "output_type": "stream",
     "text": [
      "                 Open       High        Low      Close  Adj Close     Volume\n",
      "Date                                                                        \n",
      "2006-11-01  11.585714  11.625714  11.194285  11.308572  10.173827  152798100\n",
      "2006-11-02  11.274285  11.331429  11.214286  11.282857  10.150690  116370800\n",
      "2006-11-03  11.337143  11.361428  11.112857  11.184286  10.062012  107972200\n",
      "2006-11-06  11.278571  11.437143  11.204286  11.387143  10.244513  108644200\n",
      "2006-11-07  11.492857  11.571428  11.447143  11.501429  10.347329  131483100\n"
     ]
    }
   ],
   "source": [
    "# Inspect the first rows of November-December 2006\n",
    "print(aapl.loc[pd.Timestamp('2006-11-01'):pd.Timestamp('2006-12-31')].head())"
   ]
  },
  {
   "cell_type": "code",
   "execution_count": 16,
   "metadata": {
    "collapsed": false
   },
   "outputs": [
    {
     "name": "stdout",
     "output_type": "stream",
     "text": [
      "                 Open       High        Low      Close  Adj Close     Volume\n",
      "Date                                                                        \n",
      "2006-11-01  11.585714  11.625714  11.194285  11.308572  10.173827  152798100\n",
      "2006-11-02  11.274285  11.331429  11.214286  11.282857  10.150690  116370800\n",
      "2006-11-03  11.337143  11.361428  11.112857  11.184286  10.062012  107972200\n",
      "2006-11-06  11.278571  11.437143  11.204286  11.387143  10.244513  108644200\n",
      "2006-11-07  11.492857  11.571428  11.447143  11.501429  10.347329  131483100\n"
     ]
    }
   ],
   "source": [
    "print(aapl.loc['2006-11-01':'2006-12-31'].head())"
   ]
  },
  {
   "cell_type": "code",
   "execution_count": 17,
   "metadata": {
    "collapsed": false
   },
   "outputs": [
    {
     "name": "stdout",
     "output_type": "stream",
     "text": [
      "                 Open       High        Low      Close  Adj Close     Volume\n",
      "Date                                                                        \n",
      "2007-01-03  12.327143  12.368571  11.700000  11.971429  10.770167  309579900\n",
      "2007-01-04  12.007143  12.278571  11.974286  12.237143  11.009220  211815100\n",
      "2007-01-05  12.252857  12.314285  12.057143  12.150000  10.930819  208685400\n",
      "2007-01-08  12.280000  12.361428  12.182858  12.210000  10.984798  199276700\n",
      "2007-01-09  12.350000  13.282857  12.164286  13.224286  11.897308  837324600\n"
     ]
    }
   ],
   "source": [
    "# Inspect the first rows of 2007 \n",
    "print(aapl.loc['2007'].head())"
   ]
  },
  {
   "cell_type": "code",
   "execution_count": 19,
   "metadata": {
    "collapsed": false
   },
   "outputs": [
    {
     "name": "stdout",
     "output_type": "stream",
     "text": [
      "                 Open       High        Low      Close  Adj Close     Volume\n",
      "Date                                                                        \n",
      "2006-11-01  11.585714  11.625714  11.194285  11.308572  10.173827  152798100\n",
      "2006-11-02  11.274285  11.331429  11.214286  11.282857  10.150690  116370800\n",
      "2006-11-03  11.337143  11.361428  11.112857  11.184286  10.062012  107972200\n",
      "2006-11-06  11.278571  11.437143  11.204286  11.387143  10.244513  108644200\n",
      "2006-11-07  11.492857  11.571428  11.447143  11.501429  10.347329  131483100\n",
      "2006-11-08  11.431429  11.812857  11.412857  11.778571  10.596662  172729200\n",
      "2006-11-09  11.842857  12.098572  11.731428  11.905714  10.711047  230763400\n",
      "2006-11-10  11.935715  11.942857  11.785714  11.874286  10.682772   93466100\n",
      "2006-11-13  11.888572  12.064285  11.805715  12.050000  10.840854  112668500\n",
      "2006-11-14  12.114285  12.142858  11.985714  12.142858  10.924394  147238700\n",
      "2006-11-15  12.150000  12.271428  12.000000  12.007143  10.802297  163830800\n",
      "2006-11-16  12.124286  12.328571  12.088572  12.230000  11.002795  173485200\n",
      "2006-11-17  12.162857  12.277143  12.142858  12.264286  11.033639  116606000\n",
      "2006-11-20  12.200000  12.428572  12.171429  12.352858  11.113322  142698500\n",
      "2006-11-21  12.488571  12.657143  12.444285  12.657143  11.387076  155666700\n",
      "2006-11-22  12.712857  12.964286  12.550000  12.901428  11.606848  167985300\n",
      "2006-11-24  12.790000  13.297143  12.785714  13.090000  11.776498  129669400\n",
      "2006-11-27  13.215714  13.308572  12.785714  12.791429  11.507885  268709000\n",
      "2006-11-28  12.908571  13.138572  12.844286  13.115714  11.799632  259043400\n",
      "2006-11-29  13.285714  13.307143  12.892858  13.114285  11.798347  289270800\n",
      "2006-11-30  13.172857  13.240000  13.008572  13.094286  11.780354  217621600\n"
     ]
    }
   ],
   "source": [
    "# Inspect November 2006\n",
    "print(aapl.iloc[22:43])"
   ]
  },
  {
   "cell_type": "code",
   "execution_count": 21,
   "metadata": {
    "collapsed": false
   },
   "outputs": [
    {
     "name": "stdout",
     "output_type": "stream",
     "text": [
      "                 Open      Close\n",
      "Date                            \n",
      "2006-11-01  11.585714  11.308572\n",
      "2006-12-01  13.114285  13.045714\n"
     ]
    }
   ],
   "source": [
    "# Inspect the 'Open' and 'Close' values at 2006-11-01 and 2006-12-01\n",
    "print(aapl.iloc[[22,43], [0, 3]])"
   ]
  },
  {
   "cell_type": "markdown",
   "metadata": {
    "collapsed": true
   },
   "source": [
    "### Tip:\n",
    "* <font size=4>if you look closely at the results of the subsetting, you’ll notice that there are certain days missing in the data; If you look more closely at the pattern, you’ll see that it’s usually two or three days that are missing; These days are usually weekend days or public holidays and aren’t part of your data. This is nothing to worry about: it’s completely normal and you don’t have to fill in these missing days.</font>"
   ]
  },
  {
   "cell_type": "markdown",
   "metadata": {},
   "source": [
    "## Inspect data:\n",
    "\n",
    "* <font size=4>sample() : sample some 20 rows from the data set</font>\n",
    "\n",
    "* <font size=4>resample() : resample the data so that aapl is now at the monthly level instead of daily.</font>"
   ]
  },
  {
   "cell_type": "code",
   "execution_count": 20,
   "metadata": {
    "collapsed": false
   },
   "outputs": [
    {
     "name": "stdout",
     "output_type": "stream",
     "text": [
      "                 Open       High        Low      Close  Adj Close     Volume\n",
      "Date                                                                        \n",
      "2010-04-26  38.840000  38.922855  38.312859  38.500000  34.636757  119767200\n",
      "2010-09-09  37.862858  38.074287  37.560001  37.581429  33.810356  109643800\n",
      "2008-01-14  25.360001  25.631428  25.024286  25.540001  22.977213  275112600\n",
      "2006-11-30  13.172857  13.240000  13.008572  13.094286  11.780354  217621600\n",
      "2009-12-31  30.447144  30.478571  30.080000  30.104286  27.083506   88102700\n",
      "2010-02-26  28.911428  29.309999  28.857143  29.231428  26.298227  126865200\n",
      "2011-11-03  57.009998  57.628571  56.480000  57.581429  51.803478  110346600\n",
      "2008-06-27  23.787144  24.367144  23.450001  24.298571  21.860355  260562400\n",
      "2010-12-22  46.337143  46.531429  46.221428  46.451427  41.790306   66480400\n",
      "2007-10-24  26.544285  26.744286  25.605715  26.561428  23.896151  322120400\n",
      "2011-02-23  48.395714  49.234287  48.372856  48.945713  44.034309  167963600\n",
      "2011-02-09  50.741428  51.285713  50.695713  51.165714  46.031540  120686300\n",
      "2008-07-01  23.461428  24.959999  23.428572  24.954287  22.450274  277820200\n",
      "2007-08-08  19.537144  19.551428  18.857143  19.144285  17.223278  202024200\n",
      "2009-12-16  27.871429  28.071428  27.792856  27.861429  25.065701   88246200\n",
      "2010-10-29  43.461430  43.697144  42.981430  42.997143  38.682644  107627800\n",
      "2011-08-16  54.502857  54.767143  53.722858  54.354286  48.900162  124687500\n",
      "2010-03-17  32.128571  32.349998  31.895714  32.017143  28.804413  112739200\n",
      "2011-09-30  55.302856  55.555714  54.454285  54.474285  49.008118  136910200\n",
      "2010-05-28  37.055714  37.057144  36.192856  36.697144  33.014805  203903700\n"
     ]
    }
   ],
   "source": [
    "# Sample 20 rows\n",
    "sample = aapl.sample(20)\n",
    "\n",
    "# Print `sample`\n",
    "print(sample)"
   ]
  },
  {
   "cell_type": "code",
   "execution_count": 21,
   "metadata": {
    "collapsed": false
   },
   "outputs": [
    {
     "name": "stdout",
     "output_type": "stream",
     "text": [
      "                 Open       High        Low      Close  Adj Close     Volume\n",
      "Date                                                                        \n",
      "2006-10-31  11.002922  11.123766  10.893117  11.017987   9.912398  163499509\n",
      "2006-11-30  12.161565  12.314626  12.028980  12.192109  10.968704  164701000\n",
      "2006-12-31  12.415857  12.546500  12.205571  12.353071  11.113516  211134910\n",
      "2007-01-31  12.722357  12.880857  12.522572  12.697357  11.423254  340122265\n",
      "2007-02-28  12.252105  12.382932  12.111804  12.246842  11.017946  180557300\n",
      "2007-03-31  12.917013  13.072143  12.807792  12.943312  11.644528  180893681\n",
      "2007-04-30  13.403571  13.518857  13.257857  13.386429  12.043181  168246750\n",
      "2007-05-31  15.455520  15.670520  15.311039  15.543636  13.983926  197330318\n",
      "2007-06-30  17.476667  17.642721  17.168911  17.385034  15.640551  277137400\n",
      "2007-07-31  19.475918  19.747823  19.106803  19.442993  17.492006  285935400\n",
      "2007-08-31  18.572546  18.863292  18.151677  18.549068  16.687781  264791282\n",
      "2007-09-30  20.273459  20.566842  19.993985  20.297143  18.260446  275410836\n",
      "2007-10-31  24.504099  24.786149  24.081056  24.544348  22.081471  253019473\n",
      "2007-11-30  25.139932  25.571293  24.329796  24.951157  22.447460  311902266\n",
      "2007-12-31  27.213000  27.572071  26.815714  27.215000  24.484139  215658485\n",
      "2008-01-31  23.125510  23.616871  22.327143  22.911156  20.612160  418736766\n",
      "2008-02-29  18.017786  18.318429  17.580500  17.879000  16.084950  310824430\n",
      "2008-03-31  18.592571  19.003071  18.286000  18.689000  16.813671  286590920\n",
      "2008-04-30  22.526623  22.929286  22.165909  22.598182  20.330591  258942981\n",
      "2008-05-31  26.370272  26.695918  25.952449  26.394217  23.745718  221288266\n",
      "2008-06-30  25.561225  25.935646  25.059184  25.497959  22.939393  231854700\n",
      "2008-07-31  23.970065  24.406688  23.445325  23.964091  21.559439  224429100\n",
      "2008-08-31  24.374354  24.756939  24.106463  24.438504  21.986247  155782800\n",
      "2008-09-30  20.447075  20.890000  19.647755  20.177619  18.152915  286518600\n",
      "2008-10-31  14.243975  14.822547  13.491615  14.143416  12.724209  450290339\n",
      "2008-11-30  13.498872  13.817143  13.046692  13.420075  12.073452  310782389\n",
      "2008-12-31  13.043377  13.347532  12.763182  13.077662  11.765398  229702804\n",
      "2009-01-31  12.666429  12.929500  12.441071  12.682143  11.409566  226321760\n",
      "2009-02-28  13.384436  13.698947  13.185564  13.439173  12.090633  182466457\n",
      "2009-03-31  13.846623  14.177922  13.647273  13.929286  12.531567  175279522\n",
      "...               ...        ...        ...        ...        ...        ...\n",
      "2009-07-31  21.259545  21.496818  21.064610  21.331169  19.190714  124342463\n",
      "2009-08-31  23.752993  23.936258  23.536870  23.754354  21.370748   97203866\n",
      "2009-09-30  25.364286  25.634422  25.149184  25.398095  22.849551  118920466\n",
      "2009-10-31  27.632727  27.878636  27.295000  27.547338  24.783129  147229281\n",
      "2009-11-30  28.555286  28.840214  28.334714  28.617143  25.745585  105684810\n",
      "2009-12-31  28.505455  28.774805  28.156169  28.422078  25.570094  129476804\n",
      "2010-01-31  29.915639  30.175338  29.328647  29.673609  26.696042  199592031\n",
      "2010-02-28  28.298872  28.636466  28.046090  28.399398  25.549690  141790526\n",
      "2010-03-31  31.828137  32.097205  31.612174  31.915838  28.713276  132110573\n",
      "2010-04-30  35.857347  36.162381  35.445714  35.878368  32.278190  147227733\n",
      "2010-05-31  35.997071  36.516857  34.974714  35.923071  32.318407  226033185\n",
      "2010-06-30  37.483702  37.842532  36.912467  37.306494  33.563010  189218781\n",
      "2010-07-31  36.497075  36.922721  35.869660  36.421429  32.766759  186544100\n",
      "2010-08-31  35.944351  36.249610  35.602078  35.903312  32.300632  108967281\n",
      "2010-09-30  38.977279  39.398095  38.654285  39.121564  35.195950  141070466\n",
      "2010-10-31  42.918095  43.326462  42.524149  42.990612  38.676763  145649733\n",
      "2010-11-30  44.492381  44.853130  44.114625  44.512585  40.046015  113191500\n",
      "2010-12-31  45.973052  46.151558  45.714675  45.926559  41.318105   79241304\n",
      "2011-01-31  48.230928  48.690000  47.766429  48.340000  43.489373  135519195\n",
      "2011-02-28  50.047143  50.452632  49.730902  50.168948  45.134796  122315126\n",
      "2011-03-31  49.720124  50.048447  49.182422  49.641553  44.660322  122896291\n",
      "2011-04-30  48.758572  49.099857  48.266071  48.630785  43.750979  115672865\n",
      "2011-05-31  48.855170  49.183402  48.487619  48.826394  43.926958   82286433\n",
      "2011-06-30  47.417728  47.798506  46.891104  47.297337  42.551334  105271027\n",
      "2011-07-31  52.937928  53.596071  52.519786  53.176857  47.840881  133174335\n",
      "2011-08-31  53.894347  54.550000  53.021304  53.823230  48.422394  175463034\n",
      "2011-09-30  56.054217  56.745918  55.438096  56.070476  50.444142  142588666\n",
      "2011-10-31  56.677687  57.402380  55.932245  56.747143  51.052909  156445566\n",
      "2011-11-30  55.181157  55.554218  54.526599  54.973606  49.457336  106710733\n",
      "2011-12-31  56.110068  56.523537  55.734217  56.132925  50.500324   75077766\n",
      "\n",
      "[63 rows x 6 columns]\n"
     ]
    }
   ],
   "source": [
    "# Resample to monthly level \n",
    "monthly_aapl = aapl.resample('M').mean()\n",
    "\n",
    "# Print `monthly_aapl`\n",
    "print(monthly_aapl)"
   ]
  },
  {
   "cell_type": "markdown",
   "metadata": {},
   "source": [
    "##  Operations on PANDAS DataFrames\n",
    "\n",
    "* ### calculate the differences between the opening and closing prices per day. Substract aapl.Close from aapl.Open. \n",
    " \n",
    "* ### You store the result in a new column of the aapl DataFrame called diff and then you delete it again with the help of del:"
   ]
  },
  {
   "cell_type": "code",
   "execution_count": 22,
   "metadata": {
    "collapsed": true
   },
   "outputs": [],
   "source": [
    "# Add a column `diff` to `aapl` \n",
    "aapl['diff'] = aapl.Open - aapl.Close"
   ]
  },
  {
   "cell_type": "code",
   "execution_count": 23,
   "metadata": {
    "collapsed": false
   },
   "outputs": [
    {
     "data": {
      "text/html": [
       "<div>\n",
       "<table border=\"1\" class=\"dataframe\">\n",
       "  <thead>\n",
       "    <tr style=\"text-align: right;\">\n",
       "      <th></th>\n",
       "      <th>Open</th>\n",
       "      <th>High</th>\n",
       "      <th>Low</th>\n",
       "      <th>Close</th>\n",
       "      <th>Adj Close</th>\n",
       "      <th>Volume</th>\n",
       "      <th>diff</th>\n",
       "    </tr>\n",
       "    <tr>\n",
       "      <th>Date</th>\n",
       "      <th></th>\n",
       "      <th></th>\n",
       "      <th></th>\n",
       "      <th></th>\n",
       "      <th></th>\n",
       "      <th></th>\n",
       "      <th></th>\n",
       "    </tr>\n",
       "  </thead>\n",
       "  <tbody>\n",
       "    <tr>\n",
       "      <th>2006-10-02</th>\n",
       "      <td>10.728572</td>\n",
       "      <td>10.838572</td>\n",
       "      <td>10.614285</td>\n",
       "      <td>10.694285</td>\n",
       "      <td>9.621180</td>\n",
       "      <td>178159800</td>\n",
       "      <td>0.034287</td>\n",
       "    </tr>\n",
       "    <tr>\n",
       "      <th>2006-10-03</th>\n",
       "      <td>10.635715</td>\n",
       "      <td>10.707143</td>\n",
       "      <td>10.455714</td>\n",
       "      <td>10.582857</td>\n",
       "      <td>9.520932</td>\n",
       "      <td>197677200</td>\n",
       "      <td>0.052858</td>\n",
       "    </tr>\n",
       "    <tr>\n",
       "      <th>2006-10-04</th>\n",
       "      <td>10.585714</td>\n",
       "      <td>10.780000</td>\n",
       "      <td>10.451428</td>\n",
       "      <td>10.768572</td>\n",
       "      <td>9.688010</td>\n",
       "      <td>207270700</td>\n",
       "      <td>-0.182858</td>\n",
       "    </tr>\n",
       "    <tr>\n",
       "      <th>2006-10-05</th>\n",
       "      <td>10.647142</td>\n",
       "      <td>10.880000</td>\n",
       "      <td>10.590000</td>\n",
       "      <td>10.690000</td>\n",
       "      <td>9.617326</td>\n",
       "      <td>170970800</td>\n",
       "      <td>-0.042858</td>\n",
       "    </tr>\n",
       "    <tr>\n",
       "      <th>2006-10-06</th>\n",
       "      <td>10.631429</td>\n",
       "      <td>10.720000</td>\n",
       "      <td>10.544286</td>\n",
       "      <td>10.602858</td>\n",
       "      <td>9.538924</td>\n",
       "      <td>116739700</td>\n",
       "      <td>0.028571</td>\n",
       "    </tr>\n",
       "  </tbody>\n",
       "</table>\n",
       "</div>"
      ],
      "text/plain": [
       "                 Open       High        Low      Close  Adj Close     Volume  \\\n",
       "Date                                                                           \n",
       "2006-10-02  10.728572  10.838572  10.614285  10.694285   9.621180  178159800   \n",
       "2006-10-03  10.635715  10.707143  10.455714  10.582857   9.520932  197677200   \n",
       "2006-10-04  10.585714  10.780000  10.451428  10.768572   9.688010  207270700   \n",
       "2006-10-05  10.647142  10.880000  10.590000  10.690000   9.617326  170970800   \n",
       "2006-10-06  10.631429  10.720000  10.544286  10.602858   9.538924  116739700   \n",
       "\n",
       "                diff  \n",
       "Date                  \n",
       "2006-10-02  0.034287  \n",
       "2006-10-03  0.052858  \n",
       "2006-10-04 -0.182858  \n",
       "2006-10-05 -0.042858  \n",
       "2006-10-06  0.028571  "
      ]
     },
     "execution_count": 23,
     "metadata": {},
     "output_type": "execute_result"
    }
   ],
   "source": [
    "aapl.head()"
   ]
  },
  {
   "cell_type": "code",
   "execution_count": 24,
   "metadata": {
    "collapsed": true
   },
   "outputs": [],
   "source": [
    "# Delete the new `diff` column\n",
    "del aapl['diff']"
   ]
  },
  {
   "cell_type": "code",
   "execution_count": 25,
   "metadata": {
    "collapsed": false
   },
   "outputs": [
    {
     "data": {
      "text/html": [
       "<div>\n",
       "<table border=\"1\" class=\"dataframe\">\n",
       "  <thead>\n",
       "    <tr style=\"text-align: right;\">\n",
       "      <th></th>\n",
       "      <th>Open</th>\n",
       "      <th>High</th>\n",
       "      <th>Low</th>\n",
       "      <th>Close</th>\n",
       "      <th>Adj Close</th>\n",
       "      <th>Volume</th>\n",
       "    </tr>\n",
       "    <tr>\n",
       "      <th>Date</th>\n",
       "      <th></th>\n",
       "      <th></th>\n",
       "      <th></th>\n",
       "      <th></th>\n",
       "      <th></th>\n",
       "      <th></th>\n",
       "    </tr>\n",
       "  </thead>\n",
       "  <tbody>\n",
       "    <tr>\n",
       "      <th>2006-10-02</th>\n",
       "      <td>10.728572</td>\n",
       "      <td>10.838572</td>\n",
       "      <td>10.614285</td>\n",
       "      <td>10.694285</td>\n",
       "      <td>9.621180</td>\n",
       "      <td>178159800</td>\n",
       "    </tr>\n",
       "    <tr>\n",
       "      <th>2006-10-03</th>\n",
       "      <td>10.635715</td>\n",
       "      <td>10.707143</td>\n",
       "      <td>10.455714</td>\n",
       "      <td>10.582857</td>\n",
       "      <td>9.520932</td>\n",
       "      <td>197677200</td>\n",
       "    </tr>\n",
       "    <tr>\n",
       "      <th>2006-10-04</th>\n",
       "      <td>10.585714</td>\n",
       "      <td>10.780000</td>\n",
       "      <td>10.451428</td>\n",
       "      <td>10.768572</td>\n",
       "      <td>9.688010</td>\n",
       "      <td>207270700</td>\n",
       "    </tr>\n",
       "    <tr>\n",
       "      <th>2006-10-05</th>\n",
       "      <td>10.647142</td>\n",
       "      <td>10.880000</td>\n",
       "      <td>10.590000</td>\n",
       "      <td>10.690000</td>\n",
       "      <td>9.617326</td>\n",
       "      <td>170970800</td>\n",
       "    </tr>\n",
       "    <tr>\n",
       "      <th>2006-10-06</th>\n",
       "      <td>10.631429</td>\n",
       "      <td>10.720000</td>\n",
       "      <td>10.544286</td>\n",
       "      <td>10.602858</td>\n",
       "      <td>9.538924</td>\n",
       "      <td>116739700</td>\n",
       "    </tr>\n",
       "  </tbody>\n",
       "</table>\n",
       "</div>"
      ],
      "text/plain": [
       "                 Open       High        Low      Close  Adj Close     Volume\n",
       "Date                                                                        \n",
       "2006-10-02  10.728572  10.838572  10.614285  10.694285   9.621180  178159800\n",
       "2006-10-03  10.635715  10.707143  10.455714  10.582857   9.520932  197677200\n",
       "2006-10-04  10.585714  10.780000  10.451428  10.768572   9.688010  207270700\n",
       "2006-10-05  10.647142  10.880000  10.590000  10.690000   9.617326  170970800\n",
       "2006-10-06  10.631429  10.720000  10.544286  10.602858   9.538924  116739700"
      ]
     },
     "execution_count": 25,
     "metadata": {},
     "output_type": "execute_result"
    }
   ],
   "source": [
    "aapl.head()"
   ]
  },
  {
   "cell_type": "markdown",
   "metadata": {},
   "source": [
    "## <font color='green'>Visualizing Time Series Data</font>"
   ]
  },
  {
   "cell_type": "code",
   "execution_count": 47,
   "metadata": {
    "collapsed": false
   },
   "outputs": [
    {
     "data": {
      "image/png": "[encoded data removed]",
      "text/plain": [
       "<matplotlib.figure.Figure at 0x7f1d10aabd68>"
      ]
     },
     "metadata": {},
     "output_type": "display_data"
    }
   ],
   "source": [
    "# Import Matplotlib's `pyplot` module as `plt`\n",
    "import matplotlib.pyplot as plt\n",
    "%matplotlib inline\n",
    "\n",
    "# Plot the closing prices for `aapl`\n",
    "aapl['Close'].plot(grid=True)\n",
    "\n",
    "# Show the plot\n",
    "plt.show()"
   ]
  },
  {
   "cell_type": "markdown",
   "metadata": {},
   "source": [
    "###  OBTAIN daily percentage:\n",
    "\n",
    "* ### there is a pct_change() function included in the Pandas package to make your life easier:"
   ]
  },
  {
   "cell_type": "code",
   "execution_count": 36,
   "metadata": {
    "collapsed": true
   },
   "outputs": [],
   "source": [
    "# Import `numpy` as `np`\n",
    "import numpy as np\n",
    "\n",
    "# Assign `Adj Close` to `daily_close`\n",
    "daily_close = aapl[['Adj Close']]\n",
    "\n",
    "# Daily returns\n",
    "daily_pct_change = daily_close.pct_change()"
   ]
  },
  {
   "cell_type": "code",
   "execution_count": 37,
   "metadata": {
    "collapsed": false
   },
   "outputs": [
    {
     "data": {
      "text/html": [
       "<div>\n",
       "<table border=\"1\" class=\"dataframe\">\n",
       "  <thead>\n",
       "    <tr style=\"text-align: right;\">\n",
       "      <th></th>\n",
       "      <th>Adj Close</th>\n",
       "    </tr>\n",
       "    <tr>\n",
       "      <th>Date</th>\n",
       "      <th></th>\n",
       "    </tr>\n",
       "  </thead>\n",
       "  <tbody>\n",
       "    <tr>\n",
       "      <th>2006-10-02</th>\n",
       "      <td>NaN</td>\n",
       "    </tr>\n",
       "    <tr>\n",
       "      <th>2006-10-03</th>\n",
       "      <td>-0.010420</td>\n",
       "    </tr>\n",
       "    <tr>\n",
       "      <th>2006-10-04</th>\n",
       "      <td>0.017548</td>\n",
       "    </tr>\n",
       "    <tr>\n",
       "      <th>2006-10-05</th>\n",
       "      <td>-0.007296</td>\n",
       "    </tr>\n",
       "    <tr>\n",
       "      <th>2006-10-06</th>\n",
       "      <td>-0.008152</td>\n",
       "    </tr>\n",
       "    <tr>\n",
       "      <th>2006-10-09</th>\n",
       "      <td>0.005524</td>\n",
       "    </tr>\n",
       "    <tr>\n",
       "      <th>2006-10-10</th>\n",
       "      <td>-0.010988</td>\n",
       "    </tr>\n",
       "    <tr>\n",
       "      <th>2006-10-11</th>\n",
       "      <td>-0.007858</td>\n",
       "    </tr>\n",
       "    <tr>\n",
       "      <th>2006-10-12</th>\n",
       "      <td>0.027721</td>\n",
       "    </tr>\n",
       "    <tr>\n",
       "      <th>2006-10-13</th>\n",
       "      <td>-0.003189</td>\n",
       "    </tr>\n",
       "    <tr>\n",
       "      <th>2006-10-16</th>\n",
       "      <td>0.005065</td>\n",
       "    </tr>\n",
       "    <tr>\n",
       "      <th>2006-10-17</th>\n",
       "      <td>-0.014722</td>\n",
       "    </tr>\n",
       "    <tr>\n",
       "      <th>2006-10-18</th>\n",
       "      <td>0.003231</td>\n",
       "    </tr>\n",
       "    <tr>\n",
       "      <th>2006-10-19</th>\n",
       "      <td>0.059842</td>\n",
       "    </tr>\n",
       "    <tr>\n",
       "      <th>2006-10-20</th>\n",
       "      <td>0.012153</td>\n",
       "    </tr>\n",
       "    <tr>\n",
       "      <th>2006-10-23</th>\n",
       "      <td>0.018887</td>\n",
       "    </tr>\n",
       "    <tr>\n",
       "      <th>2006-10-24</th>\n",
       "      <td>-0.005033</td>\n",
       "    </tr>\n",
       "    <tr>\n",
       "      <th>2006-10-25</th>\n",
       "      <td>0.007773</td>\n",
       "    </tr>\n",
       "    <tr>\n",
       "      <th>2006-10-26</th>\n",
       "      <td>0.006244</td>\n",
       "    </tr>\n",
       "    <tr>\n",
       "      <th>2006-10-27</th>\n",
       "      <td>-0.021657</td>\n",
       "    </tr>\n",
       "    <tr>\n",
       "      <th>2006-10-30</th>\n",
       "      <td>0.000124</td>\n",
       "    </tr>\n",
       "    <tr>\n",
       "      <th>2006-10-31</th>\n",
       "      <td>0.008207</td>\n",
       "    </tr>\n",
       "    <tr>\n",
       "      <th>2006-11-01</th>\n",
       "      <td>-0.023680</td>\n",
       "    </tr>\n",
       "    <tr>\n",
       "      <th>2006-11-02</th>\n",
       "      <td>-0.002274</td>\n",
       "    </tr>\n",
       "    <tr>\n",
       "      <th>2006-11-03</th>\n",
       "      <td>-0.008736</td>\n",
       "    </tr>\n",
       "    <tr>\n",
       "      <th>2006-11-06</th>\n",
       "      <td>0.018138</td>\n",
       "    </tr>\n",
       "    <tr>\n",
       "      <th>2006-11-07</th>\n",
       "      <td>0.010036</td>\n",
       "    </tr>\n",
       "    <tr>\n",
       "      <th>2006-11-08</th>\n",
       "      <td>0.024096</td>\n",
       "    </tr>\n",
       "    <tr>\n",
       "      <th>2006-11-09</th>\n",
       "      <td>0.010794</td>\n",
       "    </tr>\n",
       "    <tr>\n",
       "      <th>2006-11-10</th>\n",
       "      <td>-0.002640</td>\n",
       "    </tr>\n",
       "    <tr>\n",
       "      <th>...</th>\n",
       "      <td>...</td>\n",
       "    </tr>\n",
       "    <tr>\n",
       "      <th>2011-11-17</th>\n",
       "      <td>-0.019128</td>\n",
       "    </tr>\n",
       "    <tr>\n",
       "      <th>2011-11-18</th>\n",
       "      <td>-0.006545</td>\n",
       "    </tr>\n",
       "    <tr>\n",
       "      <th>2011-11-21</th>\n",
       "      <td>-0.015816</td>\n",
       "    </tr>\n",
       "    <tr>\n",
       "      <th>2011-11-22</th>\n",
       "      <td>0.020325</td>\n",
       "    </tr>\n",
       "    <tr>\n",
       "      <th>2011-11-23</th>\n",
       "      <td>-0.025285</td>\n",
       "    </tr>\n",
       "    <tr>\n",
       "      <th>2011-11-25</th>\n",
       "      <td>-0.009319</td>\n",
       "    </tr>\n",
       "    <tr>\n",
       "      <th>2011-11-28</th>\n",
       "      <td>0.034519</td>\n",
       "    </tr>\n",
       "    <tr>\n",
       "      <th>2011-11-29</th>\n",
       "      <td>-0.007763</td>\n",
       "    </tr>\n",
       "    <tr>\n",
       "      <th>2011-11-30</th>\n",
       "      <td>0.024116</td>\n",
       "    </tr>\n",
       "    <tr>\n",
       "      <th>2011-12-01</th>\n",
       "      <td>0.014992</td>\n",
       "    </tr>\n",
       "    <tr>\n",
       "      <th>2011-12-02</th>\n",
       "      <td>0.004563</td>\n",
       "    </tr>\n",
       "    <tr>\n",
       "      <th>2011-12-05</th>\n",
       "      <td>0.008494</td>\n",
       "    </tr>\n",
       "    <tr>\n",
       "      <th>2011-12-06</th>\n",
       "      <td>-0.005242</td>\n",
       "    </tr>\n",
       "    <tr>\n",
       "      <th>2011-12-07</th>\n",
       "      <td>-0.004758</td>\n",
       "    </tr>\n",
       "    <tr>\n",
       "      <th>2011-12-08</th>\n",
       "      <td>0.004035</td>\n",
       "    </tr>\n",
       "    <tr>\n",
       "      <th>2011-12-09</th>\n",
       "      <td>0.007577</td>\n",
       "    </tr>\n",
       "    <tr>\n",
       "      <th>2011-12-12</th>\n",
       "      <td>-0.004522</td>\n",
       "    </tr>\n",
       "    <tr>\n",
       "      <th>2011-12-13</th>\n",
       "      <td>-0.007733</td>\n",
       "    </tr>\n",
       "    <tr>\n",
       "      <th>2011-12-14</th>\n",
       "      <td>-0.022170</td>\n",
       "    </tr>\n",
       "    <tr>\n",
       "      <th>2011-12-15</th>\n",
       "      <td>-0.003288</td>\n",
       "    </tr>\n",
       "    <tr>\n",
       "      <th>2011-12-16</th>\n",
       "      <td>0.005489</td>\n",
       "    </tr>\n",
       "    <tr>\n",
       "      <th>2011-12-19</th>\n",
       "      <td>0.003123</td>\n",
       "    </tr>\n",
       "    <tr>\n",
       "      <th>2011-12-20</th>\n",
       "      <td>0.035949</td>\n",
       "    </tr>\n",
       "    <tr>\n",
       "      <th>2011-12-21</th>\n",
       "      <td>0.001263</td>\n",
       "    </tr>\n",
       "    <tr>\n",
       "      <th>2011-12-22</th>\n",
       "      <td>0.005297</td>\n",
       "    </tr>\n",
       "    <tr>\n",
       "      <th>2011-12-23</th>\n",
       "      <td>0.011993</td>\n",
       "    </tr>\n",
       "    <tr>\n",
       "      <th>2011-12-27</th>\n",
       "      <td>0.007934</td>\n",
       "    </tr>\n",
       "    <tr>\n",
       "      <th>2011-12-28</th>\n",
       "      <td>-0.009569</td>\n",
       "    </tr>\n",
       "    <tr>\n",
       "      <th>2011-12-29</th>\n",
       "      <td>0.006160</td>\n",
       "    </tr>\n",
       "    <tr>\n",
       "      <th>2011-12-30</th>\n",
       "      <td>-0.000296</td>\n",
       "    </tr>\n",
       "  </tbody>\n",
       "</table>\n",
       "<p>1323 rows × 1 columns</p>\n",
       "</div>"
      ],
      "text/plain": [
       "            Adj Close\n",
       "Date                 \n",
       "2006-10-02        NaN\n",
       "2006-10-03  -0.010420\n",
       "2006-10-04   0.017548\n",
       "2006-10-05  -0.007296\n",
       "2006-10-06  -0.008152\n",
       "2006-10-09   0.005524\n",
       "2006-10-10  -0.010988\n",
       "2006-10-11  -0.007858\n",
       "2006-10-12   0.027721\n",
       "2006-10-13  -0.003189\n",
       "2006-10-16   0.005065\n",
       "2006-10-17  -0.014722\n",
       "2006-10-18   0.003231\n",
       "2006-10-19   0.059842\n",
       "2006-10-20   0.012153\n",
       "2006-10-23   0.018887\n",
       "2006-10-24  -0.005033\n",
       "2006-10-25   0.007773\n",
       "2006-10-26   0.006244\n",
       "2006-10-27  -0.021657\n",
       "2006-10-30   0.000124\n",
       "2006-10-31   0.008207\n",
       "2006-11-01  -0.023680\n",
       "2006-11-02  -0.002274\n",
       "2006-11-03  -0.008736\n",
       "2006-11-06   0.018138\n",
       "2006-11-07   0.010036\n",
       "2006-11-08   0.024096\n",
       "2006-11-09   0.010794\n",
       "2006-11-10  -0.002640\n",
       "...               ...\n",
       "2011-11-17  -0.019128\n",
       "2011-11-18  -0.006545\n",
       "2011-11-21  -0.015816\n",
       "2011-11-22   0.020325\n",
       "2011-11-23  -0.025285\n",
       "2011-11-25  -0.009319\n",
       "2011-11-28   0.034519\n",
       "2011-11-29  -0.007763\n",
       "2011-11-30   0.024116\n",
       "2011-12-01   0.014992\n",
       "2011-12-02   0.004563\n",
       "2011-12-05   0.008494\n",
       "2011-12-06  -0.005242\n",
       "2011-12-07  -0.004758\n",
       "2011-12-08   0.004035\n",
       "2011-12-09   0.007577\n",
       "2011-12-12  -0.004522\n",
       "2011-12-13  -0.007733\n",
       "2011-12-14  -0.022170\n",
       "2011-12-15  -0.003288\n",
       "2011-12-16   0.005489\n",
       "2011-12-19   0.003123\n",
       "2011-12-20   0.035949\n",
       "2011-12-21   0.001263\n",
       "2011-12-22   0.005297\n",
       "2011-12-23   0.011993\n",
       "2011-12-27   0.007934\n",
       "2011-12-28  -0.009569\n",
       "2011-12-29   0.006160\n",
       "2011-12-30  -0.000296\n",
       "\n",
       "[1323 rows x 1 columns]"
      ]
     },
     "execution_count": 37,
     "metadata": {},
     "output_type": "execute_result"
    }
   ],
   "source": [
    "daily_pct_change "
   ]
  },
  {
   "cell_type": "markdown",
   "metadata": {},
   "source": [
    "## Percentage change using shift"
   ]
  },
  {
   "cell_type": "code",
   "execution_count": 38,
   "metadata": {
    "collapsed": false
   },
   "outputs": [],
   "source": [
    "pct_change_shift = ( aapl[['Adj Close']] - aapl[['Adj Close']].shift(-1) ) / aapl[['Adj Close']]"
   ]
  },
  {
   "cell_type": "code",
   "execution_count": 39,
   "metadata": {
    "collapsed": false
   },
   "outputs": [
    {
     "data": {
      "text/html": [
       "<div>\n",
       "<table border=\"1\" class=\"dataframe\">\n",
       "  <thead>\n",
       "    <tr style=\"text-align: right;\">\n",
       "      <th></th>\n",
       "      <th>Adj Close</th>\n",
       "    </tr>\n",
       "    <tr>\n",
       "      <th>Date</th>\n",
       "      <th></th>\n",
       "    </tr>\n",
       "  </thead>\n",
       "  <tbody>\n",
       "    <tr>\n",
       "      <th>2006-10-02</th>\n",
       "      <td>0.010420</td>\n",
       "    </tr>\n",
       "    <tr>\n",
       "      <th>2006-10-03</th>\n",
       "      <td>-0.017548</td>\n",
       "    </tr>\n",
       "    <tr>\n",
       "      <th>2006-10-04</th>\n",
       "      <td>0.007296</td>\n",
       "    </tr>\n",
       "    <tr>\n",
       "      <th>2006-10-05</th>\n",
       "      <td>0.008152</td>\n",
       "    </tr>\n",
       "    <tr>\n",
       "      <th>2006-10-06</th>\n",
       "      <td>-0.005524</td>\n",
       "    </tr>\n",
       "    <tr>\n",
       "      <th>2006-10-09</th>\n",
       "      <td>0.010988</td>\n",
       "    </tr>\n",
       "    <tr>\n",
       "      <th>2006-10-10</th>\n",
       "      <td>0.007858</td>\n",
       "    </tr>\n",
       "    <tr>\n",
       "      <th>2006-10-11</th>\n",
       "      <td>-0.027721</td>\n",
       "    </tr>\n",
       "    <tr>\n",
       "      <th>2006-10-12</th>\n",
       "      <td>0.003189</td>\n",
       "    </tr>\n",
       "    <tr>\n",
       "      <th>2006-10-13</th>\n",
       "      <td>-0.005065</td>\n",
       "    </tr>\n",
       "    <tr>\n",
       "      <th>2006-10-16</th>\n",
       "      <td>0.014722</td>\n",
       "    </tr>\n",
       "    <tr>\n",
       "      <th>2006-10-17</th>\n",
       "      <td>-0.003231</td>\n",
       "    </tr>\n",
       "    <tr>\n",
       "      <th>2006-10-18</th>\n",
       "      <td>-0.059842</td>\n",
       "    </tr>\n",
       "    <tr>\n",
       "      <th>2006-10-19</th>\n",
       "      <td>-0.012153</td>\n",
       "    </tr>\n",
       "    <tr>\n",
       "      <th>2006-10-20</th>\n",
       "      <td>-0.018887</td>\n",
       "    </tr>\n",
       "    <tr>\n",
       "      <th>2006-10-23</th>\n",
       "      <td>0.005033</td>\n",
       "    </tr>\n",
       "    <tr>\n",
       "      <th>2006-10-24</th>\n",
       "      <td>-0.007773</td>\n",
       "    </tr>\n",
       "    <tr>\n",
       "      <th>2006-10-25</th>\n",
       "      <td>-0.006244</td>\n",
       "    </tr>\n",
       "    <tr>\n",
       "      <th>2006-10-26</th>\n",
       "      <td>0.021657</td>\n",
       "    </tr>\n",
       "    <tr>\n",
       "      <th>2006-10-27</th>\n",
       "      <td>-0.000124</td>\n",
       "    </tr>\n",
       "    <tr>\n",
       "      <th>2006-10-30</th>\n",
       "      <td>-0.008207</td>\n",
       "    </tr>\n",
       "    <tr>\n",
       "      <th>2006-10-31</th>\n",
       "      <td>0.023680</td>\n",
       "    </tr>\n",
       "    <tr>\n",
       "      <th>2006-11-01</th>\n",
       "      <td>0.002274</td>\n",
       "    </tr>\n",
       "    <tr>\n",
       "      <th>2006-11-02</th>\n",
       "      <td>0.008736</td>\n",
       "    </tr>\n",
       "    <tr>\n",
       "      <th>2006-11-03</th>\n",
       "      <td>-0.018138</td>\n",
       "    </tr>\n",
       "    <tr>\n",
       "      <th>2006-11-06</th>\n",
       "      <td>-0.010036</td>\n",
       "    </tr>\n",
       "    <tr>\n",
       "      <th>2006-11-07</th>\n",
       "      <td>-0.024096</td>\n",
       "    </tr>\n",
       "    <tr>\n",
       "      <th>2006-11-08</th>\n",
       "      <td>-0.010794</td>\n",
       "    </tr>\n",
       "    <tr>\n",
       "      <th>2006-11-09</th>\n",
       "      <td>0.002640</td>\n",
       "    </tr>\n",
       "    <tr>\n",
       "      <th>2006-11-10</th>\n",
       "      <td>-0.014798</td>\n",
       "    </tr>\n",
       "    <tr>\n",
       "      <th>...</th>\n",
       "      <td>...</td>\n",
       "    </tr>\n",
       "    <tr>\n",
       "      <th>2011-11-17</th>\n",
       "      <td>0.006545</td>\n",
       "    </tr>\n",
       "    <tr>\n",
       "      <th>2011-11-18</th>\n",
       "      <td>0.015816</td>\n",
       "    </tr>\n",
       "    <tr>\n",
       "      <th>2011-11-21</th>\n",
       "      <td>-0.020325</td>\n",
       "    </tr>\n",
       "    <tr>\n",
       "      <th>2011-11-22</th>\n",
       "      <td>0.025285</td>\n",
       "    </tr>\n",
       "    <tr>\n",
       "      <th>2011-11-23</th>\n",
       "      <td>0.009319</td>\n",
       "    </tr>\n",
       "    <tr>\n",
       "      <th>2011-11-25</th>\n",
       "      <td>-0.034519</td>\n",
       "    </tr>\n",
       "    <tr>\n",
       "      <th>2011-11-28</th>\n",
       "      <td>0.007763</td>\n",
       "    </tr>\n",
       "    <tr>\n",
       "      <th>2011-11-29</th>\n",
       "      <td>-0.024116</td>\n",
       "    </tr>\n",
       "    <tr>\n",
       "      <th>2011-11-30</th>\n",
       "      <td>-0.014992</td>\n",
       "    </tr>\n",
       "    <tr>\n",
       "      <th>2011-12-01</th>\n",
       "      <td>-0.004563</td>\n",
       "    </tr>\n",
       "    <tr>\n",
       "      <th>2011-12-02</th>\n",
       "      <td>-0.008494</td>\n",
       "    </tr>\n",
       "    <tr>\n",
       "      <th>2011-12-05</th>\n",
       "      <td>0.005242</td>\n",
       "    </tr>\n",
       "    <tr>\n",
       "      <th>2011-12-06</th>\n",
       "      <td>0.004758</td>\n",
       "    </tr>\n",
       "    <tr>\n",
       "      <th>2011-12-07</th>\n",
       "      <td>-0.004035</td>\n",
       "    </tr>\n",
       "    <tr>\n",
       "      <th>2011-12-08</th>\n",
       "      <td>-0.007577</td>\n",
       "    </tr>\n",
       "    <tr>\n",
       "      <th>2011-12-09</th>\n",
       "      <td>0.004522</td>\n",
       "    </tr>\n",
       "    <tr>\n",
       "      <th>2011-12-12</th>\n",
       "      <td>0.007733</td>\n",
       "    </tr>\n",
       "    <tr>\n",
       "      <th>2011-12-13</th>\n",
       "      <td>0.022170</td>\n",
       "    </tr>\n",
       "    <tr>\n",
       "      <th>2011-12-14</th>\n",
       "      <td>0.003288</td>\n",
       "    </tr>\n",
       "    <tr>\n",
       "      <th>2011-12-15</th>\n",
       "      <td>-0.005489</td>\n",
       "    </tr>\n",
       "    <tr>\n",
       "      <th>2011-12-16</th>\n",
       "      <td>-0.003123</td>\n",
       "    </tr>\n",
       "    <tr>\n",
       "      <th>2011-12-19</th>\n",
       "      <td>-0.035949</td>\n",
       "    </tr>\n",
       "    <tr>\n",
       "      <th>2011-12-20</th>\n",
       "      <td>-0.001263</td>\n",
       "    </tr>\n",
       "    <tr>\n",
       "      <th>2011-12-21</th>\n",
       "      <td>-0.005297</td>\n",
       "    </tr>\n",
       "    <tr>\n",
       "      <th>2011-12-22</th>\n",
       "      <td>-0.011993</td>\n",
       "    </tr>\n",
       "    <tr>\n",
       "      <th>2011-12-23</th>\n",
       "      <td>-0.007934</td>\n",
       "    </tr>\n",
       "    <tr>\n",
       "      <th>2011-12-27</th>\n",
       "      <td>0.009569</td>\n",
       "    </tr>\n",
       "    <tr>\n",
       "      <th>2011-12-28</th>\n",
       "      <td>-0.006160</td>\n",
       "    </tr>\n",
       "    <tr>\n",
       "      <th>2011-12-29</th>\n",
       "      <td>0.000296</td>\n",
       "    </tr>\n",
       "    <tr>\n",
       "      <th>2011-12-30</th>\n",
       "      <td>NaN</td>\n",
       "    </tr>\n",
       "  </tbody>\n",
       "</table>\n",
       "<p>1323 rows × 1 columns</p>\n",
       "</div>"
      ],
      "text/plain": [
       "            Adj Close\n",
       "Date                 \n",
       "2006-10-02   0.010420\n",
       "2006-10-03  -0.017548\n",
       "2006-10-04   0.007296\n",
       "2006-10-05   0.008152\n",
       "2006-10-06  -0.005524\n",
       "2006-10-09   0.010988\n",
       "2006-10-10   0.007858\n",
       "2006-10-11  -0.027721\n",
       "2006-10-12   0.003189\n",
       "2006-10-13  -0.005065\n",
       "2006-10-16   0.014722\n",
       "2006-10-17  -0.003231\n",
       "2006-10-18  -0.059842\n",
       "2006-10-19  -0.012153\n",
       "2006-10-20  -0.018887\n",
       "2006-10-23   0.005033\n",
       "2006-10-24  -0.007773\n",
       "2006-10-25  -0.006244\n",
       "2006-10-26   0.021657\n",
       "2006-10-27  -0.000124\n",
       "2006-10-30  -0.008207\n",
       "2006-10-31   0.023680\n",
       "2006-11-01   0.002274\n",
       "2006-11-02   0.008736\n",
       "2006-11-03  -0.018138\n",
       "2006-11-06  -0.010036\n",
       "2006-11-07  -0.024096\n",
       "2006-11-08  -0.010794\n",
       "2006-11-09   0.002640\n",
       "2006-11-10  -0.014798\n",
       "...               ...\n",
       "2011-11-17   0.006545\n",
       "2011-11-18   0.015816\n",
       "2011-11-21  -0.020325\n",
       "2011-11-22   0.025285\n",
       "2011-11-23   0.009319\n",
       "2011-11-25  -0.034519\n",
       "2011-11-28   0.007763\n",
       "2011-11-29  -0.024116\n",
       "2011-11-30  -0.014992\n",
       "2011-12-01  -0.004563\n",
       "2011-12-02  -0.008494\n",
       "2011-12-05   0.005242\n",
       "2011-12-06   0.004758\n",
       "2011-12-07  -0.004035\n",
       "2011-12-08  -0.007577\n",
       "2011-12-09   0.004522\n",
       "2011-12-12   0.007733\n",
       "2011-12-13   0.022170\n",
       "2011-12-14   0.003288\n",
       "2011-12-15  -0.005489\n",
       "2011-12-16  -0.003123\n",
       "2011-12-19  -0.035949\n",
       "2011-12-20  -0.001263\n",
       "2011-12-21  -0.005297\n",
       "2011-12-22  -0.011993\n",
       "2011-12-23  -0.007934\n",
       "2011-12-27   0.009569\n",
       "2011-12-28  -0.006160\n",
       "2011-12-29   0.000296\n",
       "2011-12-30        NaN\n",
       "\n",
       "[1323 rows x 1 columns]"
      ]
     },
     "execution_count": 39,
     "metadata": {},
     "output_type": "execute_result"
    }
   ],
   "source": [
    "pct_change_shift"
   ]
  },
  {
   "cell_type": "code",
   "execution_count": 40,
   "metadata": {
    "collapsed": false
   },
   "outputs": [
    {
     "name": "stdout",
     "output_type": "stream",
     "text": [
      "            Adj Close\n",
      "Date                 \n",
      "2006-10-02   0.000000\n",
      "2006-10-03  -0.010420\n",
      "2006-10-04   0.017548\n",
      "2006-10-05  -0.007296\n",
      "2006-10-06  -0.008152\n",
      "2006-10-09   0.005524\n",
      "2006-10-10  -0.010988\n",
      "2006-10-11  -0.007858\n",
      "2006-10-12   0.027721\n",
      "2006-10-13  -0.003189\n",
      "2006-10-16   0.005065\n",
      "2006-10-17  -0.014722\n",
      "2006-10-18   0.003231\n",
      "2006-10-19   0.059842\n",
      "2006-10-20   0.012153\n",
      "2006-10-23   0.018887\n",
      "2006-10-24  -0.005033\n",
      "2006-10-25   0.007773\n",
      "2006-10-26   0.006244\n",
      "2006-10-27  -0.021657\n",
      "2006-10-30   0.000124\n",
      "2006-10-31   0.008207\n",
      "2006-11-01  -0.023680\n",
      "2006-11-02  -0.002274\n",
      "2006-11-03  -0.008736\n",
      "2006-11-06   0.018138\n",
      "2006-11-07   0.010036\n",
      "2006-11-08   0.024096\n",
      "2006-11-09   0.010794\n",
      "2006-11-10  -0.002640\n",
      "...               ...\n",
      "2011-11-17  -0.019128\n",
      "2011-11-18  -0.006545\n",
      "2011-11-21  -0.015816\n",
      "2011-11-22   0.020325\n",
      "2011-11-23  -0.025285\n",
      "2011-11-25  -0.009319\n",
      "2011-11-28   0.034519\n",
      "2011-11-29  -0.007763\n",
      "2011-11-30   0.024116\n",
      "2011-12-01   0.014992\n",
      "2011-12-02   0.004563\n",
      "2011-12-05   0.008494\n",
      "2011-12-06  -0.005242\n",
      "2011-12-07  -0.004758\n",
      "2011-12-08   0.004035\n",
      "2011-12-09   0.007577\n",
      "2011-12-12  -0.004522\n",
      "2011-12-13  -0.007733\n",
      "2011-12-14  -0.022170\n",
      "2011-12-15  -0.003288\n",
      "2011-12-16   0.005489\n",
      "2011-12-19   0.003123\n",
      "2011-12-20   0.035949\n",
      "2011-12-21   0.001263\n",
      "2011-12-22   0.005297\n",
      "2011-12-23   0.011993\n",
      "2011-12-27   0.007934\n",
      "2011-12-28  -0.009569\n",
      "2011-12-29   0.006160\n",
      "2011-12-30  -0.000296\n",
      "\n",
      "[1323 rows x 1 columns]\n"
     ]
    }
   ],
   "source": [
    "# Replace NA values with 0\n",
    "daily_pct_change.fillna(0, inplace=True)\n",
    "\n",
    "# Inspect daily returns\n",
    "print(daily_pct_change)"
   ]
  },
  {
   "cell_type": "code",
   "execution_count": 43,
   "metadata": {
    "collapsed": false
   },
   "outputs": [
    {
     "name": "stdout",
     "output_type": "stream",
     "text": [
      "            Adj Close\n",
      "Date                 \n",
      "2006-10-02        NaN\n",
      "2006-10-03  -0.010474\n",
      "2006-10-04   0.017396\n",
      "2006-10-05  -0.007323\n",
      "2006-10-06  -0.008186\n",
      "2006-10-09   0.005509\n",
      "2006-10-10  -0.011049\n",
      "2006-10-11  -0.007889\n",
      "2006-10-12   0.027344\n",
      "2006-10-13  -0.003194\n",
      "2006-10-16   0.005052\n",
      "2006-10-17  -0.014831\n",
      "2006-10-18   0.003225\n",
      "2006-10-19   0.058120\n",
      "2006-10-20   0.012080\n",
      "2006-10-23   0.018711\n",
      "2006-10-24  -0.005046\n",
      "2006-10-25   0.007743\n",
      "2006-10-26   0.006225\n",
      "2006-10-27  -0.021895\n",
      "2006-10-30   0.000124\n",
      "2006-10-31   0.008174\n",
      "2006-11-01  -0.023965\n",
      "2006-11-02  -0.002277\n",
      "2006-11-03  -0.008775\n",
      "2006-11-06   0.017975\n",
      "2006-11-07   0.009986\n",
      "2006-11-08   0.023811\n",
      "2006-11-09   0.010737\n",
      "2006-11-10  -0.002643\n",
      "...               ...\n",
      "2011-11-17  -0.019314\n",
      "2011-11-18  -0.006566\n",
      "2011-11-21  -0.015942\n",
      "2011-11-22   0.020121\n",
      "2011-11-23  -0.025610\n",
      "2011-11-25  -0.009363\n",
      "2011-11-28   0.033936\n",
      "2011-11-29  -0.007794\n",
      "2011-11-30   0.023829\n",
      "2011-12-01   0.014881\n",
      "2011-12-02   0.004553\n",
      "2011-12-05   0.008458\n",
      "2011-12-06  -0.005256\n",
      "2011-12-07  -0.004769\n",
      "2011-12-08   0.004027\n",
      "2011-12-09   0.007548\n",
      "2011-12-12  -0.004532\n",
      "2011-12-13  -0.007763\n",
      "2011-12-14  -0.022420\n",
      "2011-12-15  -0.003293\n",
      "2011-12-16   0.005474\n",
      "2011-12-19   0.003118\n",
      "2011-12-20   0.035318\n",
      "2011-12-21   0.001262\n",
      "2011-12-22   0.005283\n",
      "2011-12-23   0.011922\n",
      "2011-12-27   0.007903\n",
      "2011-12-28  -0.009615\n",
      "2011-12-29   0.006141\n",
      "2011-12-30  -0.000296\n",
      "\n",
      "[1323 rows x 1 columns]\n"
     ]
    }
   ],
   "source": [
    "# Daily log returns\n",
    "daily_log_returns = np.log(daily_close.pct_change()+1)\n",
    "\n",
    "# Print daily log returns\n",
    "print(daily_log_returns)"
   ]
  },
  {
   "cell_type": "code",
   "execution_count": 48,
   "metadata": {
    "collapsed": false
   },
   "outputs": [
    {
     "data": {
      "image/png": "[encoded data removed]",
      "text/plain": [
       "<matplotlib.figure.Figure at 0x7f1d10977c18>"
      ]
     },
     "metadata": {},
     "output_type": "display_data"
    },
    {
     "name": "stdout",
     "output_type": "stream",
     "text": [
      "         Adj Close\n",
      "count  1323.000000\n",
      "mean      0.001565\n",
      "std       0.023983\n",
      "min      -0.179195\n",
      "25%      -0.010661\n",
      "50%       0.001646\n",
      "75%       0.014285\n",
      "max       0.139050\n"
     ]
    }
   ],
   "source": [
    "# Plot the distribution of `daily_pct_c`\n",
    "daily_pct_change.hist(bins=50)\n",
    "\n",
    "# Show the plot\n",
    "plt.show()\n",
    "\n",
    "# Pull up summary statistics\n",
    "print(daily_pct_change.describe())"
   ]
  },
  {
   "cell_type": "markdown",
   "metadata": {},
   "source": [
    "### understand describe()"
   ]
  },
  {
   "cell_type": "code",
   "execution_count": 52,
   "metadata": {
    "collapsed": false
   },
   "outputs": [
    {
     "data": {
      "text/html": [
       "<div>\n",
       "<table border=\"1\" class=\"dataframe\">\n",
       "  <thead>\n",
       "    <tr style=\"text-align: right;\">\n",
       "      <th></th>\n",
       "      <th>Adj Close</th>\n",
       "    </tr>\n",
       "  </thead>\n",
       "  <tbody>\n",
       "    <tr>\n",
       "      <th>count</th>\n",
       "      <td>1323.000000</td>\n",
       "    </tr>\n",
       "    <tr>\n",
       "      <th>mean</th>\n",
       "      <td>0.001565</td>\n",
       "    </tr>\n",
       "    <tr>\n",
       "      <th>std</th>\n",
       "      <td>0.023983</td>\n",
       "    </tr>\n",
       "    <tr>\n",
       "      <th>min</th>\n",
       "      <td>-0.179195</td>\n",
       "    </tr>\n",
       "    <tr>\n",
       "      <th>25%</th>\n",
       "      <td>-0.010661</td>\n",
       "    </tr>\n",
       "    <tr>\n",
       "      <th>50%</th>\n",
       "      <td>0.001646</td>\n",
       "    </tr>\n",
       "    <tr>\n",
       "      <th>75%</th>\n",
       "      <td>0.014285</td>\n",
       "    </tr>\n",
       "    <tr>\n",
       "      <th>max</th>\n",
       "      <td>0.139050</td>\n",
       "    </tr>\n",
       "  </tbody>\n",
       "</table>\n",
       "</div>"
      ],
      "text/plain": [
       "         Adj Close\n",
       "count  1323.000000\n",
       "mean      0.001565\n",
       "std       0.023983\n",
       "min      -0.179195\n",
       "25%      -0.010661\n",
       "50%       0.001646\n",
       "75%       0.014285\n",
       "max       0.139050"
      ]
     },
     "execution_count": 52,
     "metadata": {},
     "output_type": "execute_result"
    }
   ],
   "source": [
    "daily_pct_change.describe()"
   ]
  },
  {
   "cell_type": "markdown",
   "metadata": {},
   "source": [
    "## <font color=blue>The cumulative daily rate of return</font>:  daily percentage change values, adding 1 to them and calculating the cumulative product with the resulting values"
   ]
  },
  {
   "cell_type": "code",
   "execution_count": 56,
   "metadata": {
    "collapsed": false
   },
   "outputs": [
    {
     "data": {
      "image/png": "[encoded data removed]",
      "text/plain": [
       "<matplotlib.figure.Figure at 0x7f1d10ad8048>"
      ]
     },
     "metadata": {},
     "output_type": "display_data"
    }
   ],
   "source": [
    "# Calculate the cumulative daily returns\n",
    "cum_daily_return = (1 + daily_pct_change).cumprod()\n",
    "\n",
    "# Print `cum_daily_return`\n",
    "#print(cum_daily_return)\n",
    "\n",
    "# Plot the cumulative daily returns\n",
    "cum_daily_return.plot(figsize=(12,8))\n",
    "\n",
    "# Show the plot\n",
    "plt.show()\n",
    "\n"
   ]
  },
  {
   "cell_type": "code",
   "execution_count": null,
   "metadata": {
    "collapsed": true
   },
   "outputs": [],
   "source": []
  }
 ],
 "metadata": {
  "kernelspec": {
   "display_name": "Python 3",
   "language": "python",
   "name": "python3"
  },
  "language_info": {
   "codemirror_mode": {
    "name": "ipython",
    "version": 3
   },
   "file_extension": ".py",
   "mimetype": "text/x-python",
   "name": "python",
   "nbconvert_exporter": "python",
   "pygments_lexer": "ipython3",
   "version": "3.5.2"
  },
  "widgets": {
   "state": {},
   "version": "1.1.2"
  }
 },
 "nbformat": 4,
 "nbformat_minor": 0
}
